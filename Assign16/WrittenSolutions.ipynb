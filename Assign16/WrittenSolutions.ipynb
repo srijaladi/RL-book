{
 "cells": [
  {
   "cell_type": "markdown",
   "id": "3c07c8a9-76c8-4b75-a9b5-5632052bb276",
   "metadata": {},
   "source": [
    "<h1>Problem 3</h1>"
   ]
  },
  {
   "cell_type": "markdown",
   "id": "31fd9ff3-c27e-4ac7-8f5a-d71348704d3b",
   "metadata": {},
   "source": [
    "<h1>Part a</h1>"
   ]
  },
  {
   "cell_type": "markdown",
   "id": "c4534a4c-486d-4b7c-9e8c-c84ddd4cdac0",
   "metadata": {},
   "source": [
    "$\\Delta_\\theta log_\\pi(s,a;\\theta) = \\phi(s,a) - \\sum_{b \\in A}^{} log_\\pi(s,b;\\theta) \\cdot \\phi(s,b)$"
   ]
  },
  {
   "cell_type": "markdown",
   "id": "140e48b1-4e62-4198-aa4f-02f23bd622c4",
   "metadata": {},
   "source": [
    "<h1>Part b</h1>"
   ]
  },
  {
   "cell_type": "markdown",
   "id": "daacdb18-58c7-4057-9318-bab8ca6cdb6d",
   "metadata": {},
   "source": [
    "$Q(s,a;w) = \\sum_{i=1}^{m} \\phi(s,a) \\cdot w_i = \\sum_{i=1}^{m} \\frac{\\partial log \\pi (s,a;\\theta)}{\\partial \\theta_i} \\cdot w_i = (\\phi(s,a))^T \\cdot w = (\\Delta_{\\theta} log \\pi (s,a;theta))^T \\cdot w$"
   ]
  },
  {
   "cell_type": "markdown",
   "id": "b04ee5c5-08a1-40c4-8e40-de42a41288df",
   "metadata": {},
   "source": [
    "<h1>Part c</h1>"
   ]
  },
  {
   "cell_type": "markdown",
   "id": "c6fbf87b-faff-409d-9a22-00c5ff759006",
   "metadata": {},
   "source": [
    "$\\sum_{a \\in A}^{} \\pi(s,a;\\theta) \\cdot Q(s,a;w) = \\sum_{a \\in A}^{} \\pi(s,a;\\theta) (\\sum_{i=1}^{m} \\frac{\\partial log \\pi (s,a;\\theta)}{\\partial \\theta_i} \\cdot w_i) = \\sum_{a \\in A}^{} (\\sum_{i=1}^{m} \\frac{\\partial \\pi (s,a;\\theta)}{\\partial \\theta_i} \\cdot w_i) = \\sum_{i = 1}^{m} (\\sum_{a \\in A}^{} \\frac{\\partial \\pi (s,a;\\theta)}{\\partial \\theta_i} \\cdot w_i) = \\sum_{i = 1}^{m} (\\sum_{a \\in A}^{} \\frac{\\partial 1}{\\partial \\theta_i} \\cdot w_i) = \\sum_{i = 1}^{m} (\\sum_{a \\in A}^{} 0 \\cdot w_i) = 0$"
   ]
  },
  {
   "cell_type": "code",
   "execution_count": null,
   "id": "f2c4118a-5b21-41eb-a49a-4f39a7843e9e",
   "metadata": {},
   "outputs": [],
   "source": []
  }
 ],
 "metadata": {
  "kernelspec": {
   "display_name": "Python 3",
   "language": "python",
   "name": "python3"
  },
  "language_info": {
   "codemirror_mode": {
    "name": "ipython",
    "version": 3
   },
   "file_extension": ".py",
   "mimetype": "text/x-python",
   "name": "python",
   "nbconvert_exporter": "python",
   "pygments_lexer": "ipython3",
   "version": "3.8.8"
  }
 },
 "nbformat": 4,
 "nbformat_minor": 5
}
