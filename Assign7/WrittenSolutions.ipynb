{
 "cells": [
  {
   "cell_type": "markdown",
   "id": "ab66b60f-5ea1-4194-8f78-d4209f828b1b",
   "metadata": {},
   "source": [
    "<h1>Problem 1</h1>"
   ]
  },
  {
   "cell_type": "markdown",
   "id": "42fb06b8-9e13-4dee-b8de-5e4e74bfb653",
   "metadata": {},
   "source": [
    "Note that our optimal $\\pi_t^{*}$ is going to remain the same since we are only modifying our Utility function to $log(\\dot)$ but not actually changing any formulations of the optimal mean/return. Thus, the first item we focus on is the optimal $c_t$. The partial derivative with repsect to $c_t$ is:\n",
    "\n",
    "$-\\frac{\\partial V^*}{\\partial W_t} + \\frac{1}{c_t^*} = 0$, resulting in:\n",
    "\n",
    "$c_t^* = (\\frac{\\partial V^*}{\\partial W_t})^{-1}$\n",
    "\n",
    "Substituting the $\\pi_t^*$ value and the $c_t^*$ value, we can then get a $\\frac{\\partial V^*}{\\partial W_t} \\cdot \\rho$ as:\n",
    "\n",
    "$\\frac{\\partial V^*}{\\partial t} - \\frac{(\\mu - r)^2}{2\\sigma^2} \\cdot \\frac{(\\frac{\\partial V^*}{\\partial W_t})^2}{\\frac{\\partial^2 V^*}{\\partial W_t^2}} + \\frac{\\partial V^*}{\\partial W_t} \\cdot r \\cdot W_t - log(\\frac{\\partial V^*}{\\partial W_t}) - 1 = V^*(t,W_t) \\cdot \\rho$\n",
    "\n",
    "We can then make a guess solution $f(t)$ such that:\n",
    "\n",
    "$V^*(t,W_t) = f(t) + log(W_t)$\n",
    "\n",
    "$\\frac{\\partial V^*}{\\partial t} = f'(t)$\n",
    "\n",
    "$\\frac{\\partial V^*}{\\partial W_t} = \\frac{1}{W_t}$\n",
    "\n",
    "$\\frac{\\partial^2 V^*}{\\partial W_t^2} = -\\frac{1}{W_t^2}$"
   ]
  },
  {
   "cell_type": "markdown",
   "id": "efda2b30-d142-4540-88a2-f6fcd3e77262",
   "metadata": {},
   "source": [
    "$f'(t) \\cdot log(W_t) - \\frac{(\\frac{f(t)}{W_t})^2}{-\\frac{f(t)}{W_t^2}} \\cdot \\frac{(\\mu - r)^2}{2 \\sigma^2} + r \\cdot f(t) - log(\\frac{f(t)}{W_t}) - 1 = f(t) \\cdot log(W_t) \\cdot \\rho$\n",
    "\n",
    "$f'(t) \\cdot log(W_t) + f(t) \\cdot \\frac{(\\mu - r)^2}{2 \\sigma^2} + r \\cdot f(t) - log(\\frac{f(t)}{W_t}) - 1 = f(t) \\cdot log(W_t) \\cdot \\rho$\n",
    "\n",
    "$f'(t) \\cdot log(W_t) + f(t) \\cdot (\\frac{(\\mu - r)^2}{2 \\sigma^2} + r) - log(f(t)) + log(W_t) - 1 = f(t) \\cdot log(W_t) \\cdot \\rho$\n",
    "\n",
    "$f'(t) \\cdot log(W_t) = f(t) \\cdot log(W_t) \\cdot \\rho - f(t) \\cdot (\\frac{(\\mu - r)^2}{2 \\sigma^2} + r) + log(f(t)) - log(W_t) + 1$\n",
    "\n",
    "$f'(t) = \\frac{f(t) \\cdot log(W_t) \\cdot \\rho - f(t) \\cdot (\\frac{(\\mu - r)^2}{2 \\sigma^2} + r) + log(f(t)) - log(W_t) + 1}{log(W_t)}$\n",
    "\n",
    "$f'(t) = f(t) \\cdot \\frac{(\\rho \\cdot log(W_t) - \\frac{(\\mu - r)^2}{2 \\sigma^2} + r)}{log(W_t)} + log(f(t)) - 1 + \\frac{1}{log(W_t)}$\n",
    "\n",
    "Also note that substituting $\\gamma = 1$ into the previously solved $\\pi^*(t,W_t)$ yields:\n",
    "\n",
    "$\\pi^*(t,W_t) = \\frac{\\mu - r}{\\sigma^2}$"
   ]
  },
  {
   "cell_type": "markdown",
   "id": "9db0e62d-35a2-4b4d-9db5-f2998dc611a1",
   "metadata": {},
   "source": [
    "<h1>Problem 3</h1>"
   ]
  },
  {
   "cell_type": "markdown",
   "id": "fd270f81-9f75-496e-b071-0ee7f6b0fb8a",
   "metadata": {},
   "source": [
    "Let's start with the following definitions and assumptions:\n",
    "\n",
    "Variables:\n",
    "\n",
    "s : current skill level at state\n",
    "\n",
    "E : 0/1 -> 0 Represents unemployed at state, 1 represents employed at state\n",
    "\n",
    "$\\alpha$ : choice/action for fraction of each day spent working so remaining $1 - \\alpha$ is spent developing skill\n",
    "\n",
    "Constants:\n",
    "\n",
    "p : Constant probability of losing job on any day\n",
    "\n",
    "$\\gamma$ : Constant decay rate of skill when U = 0\n",
    "\n",
    "h(s) : Constant function converting skill to re-employment probability\n",
    "\n",
    "f(s) : Constant function converting skill to current wage rate\n",
    "\n",
    "g(s) : Constant function converting skill to growth per minute of skill development\n",
    "\n",
    "SPACES:\n",
    "\n",
    "State space: S : {$(s_0,E_0), (s_1,E_1), (s_2,E_2)...(s_t,E_t)$}\n",
    "\n",
    "Actions: $\\alpha \\in [0,1]$\n",
    "\n",
    "Rewards: Money earned -> $R_T(S, a, S') = R(S, a) = R(S = (s_t,E_t), a = \\alpha) = E_t \\cdot f(s_t) \\cdot \\alpha$\n",
    "\n",
    "Transitions (Assume current state is $S = (s_t, E_t)$):\n",
    "\n",
    "$P(S = (s_t, E_t = 1), a = \\alpha, S' = (s_{t+1} = (s_t + g(s_t) \\cdot (1 - \\alpha)), E_{t+1} = 1)) = 1-p$\n",
    "$P(S = (s_t, E_t = 1), a = \\alpha, S' = (s_{t+1} = (s_t + g(s_t) \\cdot (1 - \\alpha)), E_{t+1} = 0)) = p$\n",
    "$P(S = (s_t, E_t = 0), a = \\alpha, S' = (s_{t+1} = (s_t \\cdot 2^{-\\frac{1}{\\gamma}}), E_{t+1} = 1)) = h(s_t)$\n",
    "$P(S = (s_t, E_t = 0), a = \\alpha, S' = (s_{t+1} = (s_t \\cdot 2^{-\\frac{1}{\\gamma}}), E_{t+1} = 0)) = 1 - h(s_t)$\n",
    "\n",
    "In order to figure out how to maximize expected (discounted) lifetime utility of earnings, the goal is to essentially maximize utility of rewards summed up. Note that $U(x)$ is meant to denote the utility function being used. This should be able to be identified by taking the finding the maximum $\\alpha$ that maximizes the definite integral of:\n",
    "\n",
    "$E[\\int_{T = 0}^{T = t} U(E_T \\cdot f(s_T) \\cdot \\alpha) \\,dT | \\alpha]$"
   ]
  },
  {
   "cell_type": "code",
   "execution_count": null,
   "id": "c1c652a5-07c1-467e-810b-0a13acb9889b",
   "metadata": {},
   "outputs": [],
   "source": []
  }
 ],
 "metadata": {
  "kernelspec": {
   "display_name": "Python 3",
   "language": "python",
   "name": "python3"
  },
  "language_info": {
   "codemirror_mode": {
    "name": "ipython",
    "version": 3
   },
   "file_extension": ".py",
   "mimetype": "text/x-python",
   "name": "python",
   "nbconvert_exporter": "python",
   "pygments_lexer": "ipython3",
   "version": "3.8.8"
  }
 },
 "nbformat": 4,
 "nbformat_minor": 5
}
