{
 "cells": [
  {
   "cell_type": "code",
   "execution_count": null,
   "id": "21015b70-a69c-4e63-a8cc-0b8357d6b536",
   "metadata": {},
   "outputs": [],
   "source": []
  },
  {
   "cell_type": "markdown",
   "id": "f269917a-af03-4670-9096-fa16b78ae9d7",
   "metadata": {},
   "source": [
    "$V^{\\pi D}(s) = Q^{\\pi D}(s, \\pi_{D}(s))$\n",
    "\n",
    "$V^{\\pi D}(s) = R(s, \\pi_{D}(s)) + \\gamma \\cdot \\sum_{s' \\in S}^{} P(s, \\pi_{D}(s),s') \\cdot Q^{\\pi D}(s', \\pi_{D}(s'))$\n",
    "\n",
    "$V^{\\pi D}(s) = R(s, \\pi_{D}(s)) + \\gamma \\cdot \\sum_{s' \\in S}^{} P(s, \\pi_{D}(s),s') \\cdot V^{\\pi D}(s')$\n",
    "\n",
    "$Q^{\\pi D}(s, \\pi_{D}(s)) = R(s, \\pi_{D}(s)) + \\gamma \\cdot \\sum_{s' \\in S}^{} P(s, \\pi_{D}(s),s') \\cdot V^{\\pi D}(s')$\n",
    "\n",
    "$Q^{\\pi D}(s, \\pi_{D}(s)) = R(s, \\pi_{D}(s)) + \\gamma \\cdot \\sum_{s' \\in S}^{} P(s, \\pi_{D}(s),s') \\cdot Q^{\\pi D}(s', \\pi_{D}(s'))$"
   ]
  },
  {
   "cell_type": "markdown",
   "id": "4809c9fa-7157-41d9-90e5-c99e2223336d",
   "metadata": {},
   "source": [
    "\n",
    "The conditions we know are:\n",
    "\n",
    "$P(s+1 | s,a) = a$\n",
    "\n",
    "$P(s | s,a) = 1-a$\n",
    "\n",
    "$R_{T}(s,a,s+1) = 1-a$\n",
    "\n",
    "$R_{T}(s,a,s) = 1+a$\n",
    "\n",
    "\n",
    "Using the formula for $V^{*}(s)$ and using $a$ as our action at each state gives:\n",
    "\n",
    "$V^{*}(s) = max_{a\\in [0,1]}(V^{a}(s))$ for all $s\\in N$\n",
    "\n",
    "Assuming a is any action to be taken, we can create a general value function as:\n",
    "\n",
    "$V^{a}(s) = P(s,a,s+1) \\cdot R_{T}(s,a,s+1) + P(s,a,s) \\cdot R_{T}(s,a,s) + \\gamma \\cdot (P(s,a,s) \\cdot V^{a}(s) + P(s,a,s+1) \\cdot V^{a}(s+1))$\n",
    "\n",
    "At this stage there are two things we are going to do: \n",
    "First, Replace all the P,R functions with their values from above.\n",
    "Second, Notice that $V^{a}(s) = V^{a}(s+n)$ for any n, and replace $V^{a}(s+n)$ with $V^{a}(s)$. This gives a resulting function of:\n",
    "\n",
    "$V^{a}(s) = a \\cdot (1-a) + (1-a) \\cdot (1+a) + \\gamma \\cdot ((1-a) \\cdot V^{a}(s) + (a) \\cdot V^{a}(s))$\n",
    "\n",
    "$V^{a}(s) = a \\cdot (1-a) + (1-a) \\cdot (1+a) + \\frac{1}{2} \\cdot V^{a}(s)$\n",
    "\n",
    "$\\frac{1}{2} \\cdot V^{a}(s) = 1 + a - 2a^{2}$\n",
    "\n",
    "$V^{a}(s) = 2 + 2a - 4a^{2}$\n",
    "\n",
    "\n",
    "Thus, to maximize the value function, we simply need to maximize the function:\n",
    "\n",
    "$2 + 2a - 4a^{2}$\n",
    "\n",
    "After taking the derivative, the maximum value of this function occurs when $a = 0.25$ and the value of the function at $a = 0.25$ is $0.5$. Thus, we now have the optimal value function and optimal policy at every state to be:\n",
    "\n",
    "$V^{\\pi(s) = 0.25}(s) = 0.5$ and $\\pi^{*}(s) = 0.25$ at all s"
   ]
  },
  {
   "cell_type": "code",
   "execution_count": null,
   "id": "306be7f0-80a8-4094-a469-70475101d240",
   "metadata": {},
   "outputs": [],
   "source": []
  }
 ],
 "metadata": {
  "kernelspec": {
   "display_name": "Python 3",
   "language": "python",
   "name": "python3"
  },
  "language_info": {
   "codemirror_mode": {
    "name": "ipython",
    "version": 3
   },
   "file_extension": ".py",
   "mimetype": "text/x-python",
   "name": "python",
   "nbconvert_exporter": "python",
   "pygments_lexer": "ipython3",
   "version": "3.8.8"
  }
 },
 "nbformat": 4,
 "nbformat_minor": 5
}
