{
 "cells": [
  {
   "cell_type": "markdown",
   "id": "64c852ad-a692-4d19-b286-f52ffca78fab",
   "metadata": {},
   "source": [
    "<h1>Problem 1</h1>"
   ]
  },
  {
   "cell_type": "markdown",
   "id": "1fcd7ff9-69fb-4920-93aa-4a751c309418",
   "metadata": {},
   "source": [
    "Part a:\n",
    "\n",
    "Note that $E\\{U(x)\\}$ = $E\\{x - \\frac{\\alpha x^2}{2}\\}$ where $x ~ N(\\mu, \\sigma^2)$ This can be transformed (using linearity of expectation and property of expectation of independent products to:\n",
    "\n",
    "$E\\{x\\} - \\frac{\\alpha}{2} \\cdot E\\{x^2\\}$. Further, since $E\\{x\\} = \\mu$ and $E\\{x^2\\} = Var\\{x\\} + E\\{x\\}^2 = \\sigma^2 + \\mu^2$, we get our expected utility to be:\n",
    "\n",
    "$E\\{U(x)\\} = \\mu - \\frac{\\alpha (\\sigma^2 + \\mu^2)}{2}$ \n",
    "\n",
    "Part b:\n",
    "\n",
    "Note that the Certainty-Equivalent Value $x_{CE}$ is equal to $U^{-1}(E\\{U(x)\\})$. Note that the inverse of our Utility function can be found by using the quadratic formula to attain that $U^{-1}(x) =\\frac{\\sqrt{-2x\\alpha + 1} + 1}{\\alpha}$. Plugging in $x = E\\{U(x)\\} = \\mu - \\frac{\\alpha (\\sigma^2 + \\mu^2)}{2}$ yields\n",
    "\n",
    "$x_{CE} = \\frac{\\sqrt{(\\alpha \\mu - 1)^2 + (\\alpha \\sigma)^2} + 1}{\\alpha}$\n",
    "\n",
    "Part c:\n",
    "\n",
    "$E\\{x\\} = u$ meaning that $\\pi_{A} = E\\{x\\} - x_{CE}$ plugging in known values gives:\n",
    "\n",
    "$\\pi_{A} = \\mu - \\frac{\\sqrt{(\\alpha \\mu - 1)^2 + (\\alpha \\sigma)^2} + 1}{\\alpha}$\n",
    "\n",
    "From the CARA utility, we know that, in this scenario, the optimal ratio to put in risky investment is:\n",
    "\n",
    "$\\frac{\\mu - r}{\\alpha \\sigma^2}$. Given that we have a million dollars, the optimal number of dollars, given the movement of the risky investment and safe investment, the optimal amount of dollars $z$ that we should put into the risky investment is:\n",
    "\n",
    "$1000000 \\cdot \\frac{\\mu - r}{\\alpha \\sigma^2}$\n",
    "\n",
    "Next for the plot, we can just set $\\mu$ to 4.5 and $r$ to 4 and $\\sigma$ to 1.5 to get:"
   ]
  },
  {
   "cell_type": "code",
   "execution_count": 8,
   "id": "500521b9-1179-46a1-9433-18759a119310",
   "metadata": {},
   "outputs": [
    {
     "data": {
      "image/png": "[encoded data removed]",
      "text/plain": [
       "<Figure size 432x288 with 1 Axes>"
      ]
     },
     "metadata": {
      "needs_background": "light"
     },
     "output_type": "display_data"
    }
   ],
   "source": [
    "import matplotlib\n",
    "from matplotlib import pyplot as plt\n",
    "import numpy as np\n",
    "\n",
    "graphArrX = np.array([], float)\n",
    "\n",
    "totalMoney = 1000000\n",
    "mu = 4.5\n",
    "r = 4\n",
    "std = 1.5\n",
    "\n",
    "iterAmount = 0.1\n",
    "\n",
    "for i in range(1,20):\n",
    "    graphArrX = np.append(graphArrX, i * iterAmount)\n",
    "    \n",
    "graph0 = np.array([0], float)\n",
    "startArr = np.array([totalMoney], float)\n",
    "\n",
    "graphArrY = (totalMoney * (mu - r))/(graphArrX * std * std)\n",
    "\n",
    "graphArrX = np.append(graph0, graphArrX)\n",
    "graphArrY = np.append(startArr, graphArrY)\n",
    "\n",
    "plt.plot(graphArrX, graphArrY)\n",
    "plt.show()"
   ]
  },
  {
   "cell_type": "markdown",
   "id": "bc150efa-6899-44c4-baeb-35e4ee123f7f",
   "metadata": {},
   "source": [
    "<h1>Problem 2</h1>"
   ]
  },
  {
   "cell_type": "markdown",
   "id": "b9edd72a-787b-4c38-baf5-c8e7e0c186a7",
   "metadata": {
    "tags": []
   },
   "source": [
    "Part a:\n",
    "\n",
    "Outcome 1 (probability p): $W_0 - f \\cdot W_{0} + f \\cdot W_{0} (1 + \\alpha) = W_0 + f \\cdot W_0 \\cdot \\alpha$\n",
    "\n",
    "Outcome 2 (probability 1-p): $W_0 - f \\cdot W_{0} + f \\cdot W_{0} (1 - \\beta) = W_0 - f \\cdot W_0 \\cdot \\beta$\n",
    "\n",
    "Part b:\n",
    "\n",
    "Outcome 1 (probability p): $log(W_0 + f \\cdot W_0 \\cdot \\alpha)$\n",
    "\n",
    "Outcome 2 (probability 1-p): $log(W_0 - f \\cdot W_0 \\cdot \\beta)$\n",
    "\n",
    "Part c:\n",
    "\n",
    "$E[log(W)] = p \\cdot log(W | Outcome 1) + (1-p) \\cdot log(W | Outcome 2)$\n",
    "\n",
    "$E[log(W)] = p \\cdot log(W_0 + f \\cdot W_0 \\cdot \\alpha)) + (1-p) \\cdot log(W_0 - f \\cdot W_0 \\cdot \\beta)$\n",
    "\n",
    "Part d/e:\n",
    "\n",
    "The derivative of this expression with respect to $f$ gives:\n",
    "\n",
    "$\\frac{p \\cdot W_0 \\cdot \\alpha}{W_0 + f \\cdot W_{0} \\alpha} - \\frac{(1-p) \\cdot W_0 \\cdot \\beta}{W_0 - f \\cdot W_{0} \\beta}$\n",
    "\n",
    "Setting this to 0 gives:\n",
    "\n",
    "$\\frac{p \\cdot W_0 \\cdot \\alpha}{W_0 + f \\cdot W_{0} \\alpha} - \\frac{(1-p) \\cdot W_0 \\cdot \\beta}{W_0 - f \\cdot W_{0} \\beta} = 0$ leading to:\n",
    "\n",
    "$(W_0 - f \\cdot W_{0} \\beta)(p \\cdot W_0 \\cdot \\alpha) = (W_0 + f \\cdot W_{0} \\alpha)((1-p) \\cdot W_0 \\cdot \\beta)$\n",
    "\n",
    "Dividing out $W_{0}^2$ gives:\n",
    "\n",
    "$(1 - f \\cdot \\beta)(p \\cdot \\alpha) = (1 + f \\cdot \\alpha)((1-p) \\cdot \\beta)$\n",
    "\n",
    "Distributing out provides:\n",
    "\n",
    "$p \\cdot \\alpha - f \\cdot \\beta \\cdot p \\cdot \\alpha = (1-p) \\cdot \\beta + f \\cdot \\alpha \\cdot (1-p) \\cdot \\beta$\n",
    "\n",
    "Subracting from one side then gives:\n",
    "\n",
    "$p \\cdot \\alpha - (1-p) \\cdot \\beta = f \\cdot \\alpha \\cdot (1-p) \\cdot \\beta + f \\cdot \\beta \\cdot p \\cdot \\alpha = f \\cdot \\alpha \\cdot \\beta \\cdot (1 - p + p) = f \\cdot \\alpha \\cdot \\beta$\n",
    "\n",
    "Getting this in terms of $f$:\n",
    "\n",
    "$f = \\frac{p \\cdot \\alpha - (1-p) \\cdot \\beta}{\\alpha \\cdot \\beta} = \\frac{p}{\\beta} + \\frac{1-p}{\\alpha}$\n",
    "\n",
    "Part f:\n",
    "\n",
    "I am convinced"
   ]
  },
  {
   "cell_type": "code",
   "execution_count": null,
   "id": "9386734e-ce6a-4529-9d9c-17fb84941e25",
   "metadata": {},
   "outputs": [],
   "source": []
  }
 ],
 "metadata": {
  "kernelspec": {
   "display_name": "Python 3",
   "language": "python",
   "name": "python3"
  },
  "language_info": {
   "codemirror_mode": {
    "name": "ipython",
    "version": 3
   },
   "file_extension": ".py",
   "mimetype": "text/x-python",
   "name": "python",
   "nbconvert_exporter": "python",
   "pygments_lexer": "ipython3",
   "version": "3.8.8"
  }
 },
 "nbformat": 4,
 "nbformat_minor": 5
}
