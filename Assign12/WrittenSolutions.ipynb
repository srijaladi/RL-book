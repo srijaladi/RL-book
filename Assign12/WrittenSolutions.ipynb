{
 "cells": [
  {
   "cell_type": "markdown",
   "id": "bb4563e3-0b81-4309-81ec-3bb6a8f7096d",
   "metadata": {},
   "source": [
    "<h1>Problem 3</h1>"
   ]
  },
  {
   "cell_type": "markdown",
   "id": "b9147242-9a63-47e6-9bc7-1b8b16c70a09",
   "metadata": {},
   "source": [
    "Note that the sum of Discounted TD errors from $t$ to $T-1$ can essentially be written as:\n",
    "\n",
    "$\\sum_{u=t}^{T-1} \\gamma^{u-t} \\cdot (R_{u+1} + \\gamma \\cdot V(S_{u+1}) - V(S_u))$\n",
    "\n",
    "Lets split this summation to get a bit more clarity\n",
    "\n",
    "$\\sum_{u=t}^{T-1} \\gamma^{u-t} \\cdot R_{u+1} +  \\sum_{u=t}^{T-1} \\gamma^{u-t+1} \\cdot V(S_{u+1}) - \\sum_{u=t}^{T-1} \\gamma^{u-t} \\cdot V(S_u)$\n",
    "\n",
    "This becomes:\n",
    "\n",
    "$\\sum_{u=t}^{T-1} \\gamma^{u-t} \\cdot R_{u+1} +  \\sum_{u=t+1}^{T-1} \\gamma^{u-t} \\cdot V(S_{u}) - (\\sum_{u=t+1}^{T-1} \\gamma^{u-t} \\cdot V(S_u)) - V(S_u)$. Noticing that the inner 2 summations are equal, we can cancel them (since we add one and subtract the other so their overall here is just 0) to get the equivalent expression of:\n",
    "\n",
    "$\\sum_{u=t}^{T-1} \\gamma^{u-t} \\cdot R_{u+1} - V(S_u)$\n",
    "\n",
    "We know that the the Return function $G_t$, or the sum of discounted rewards can be expressed as:\n",
    "\n",
    "$G_t = R_{t+1} + \\gamma \\cdot R_{t+2} + \\gamma^2 \\cdot R_{t=3}... = \\sum_{u=t}^{T-1} \\gamma^{u-t} \\cdot R_{u+1}$. Thus, we have\n",
    "\n",
    "$G_t - V(S_t) = \\sum_{u=t}^{T-1} \\gamma^{u-t} \\cdot R_{u+1} - V(S_u) = \\sum_{u=t}^{T-1} \\gamma^{u-t} \\cdot (R_{u+1} + \\gamma \\cdot V(S_{u+1}) - V(S_u))$"
   ]
  },
  {
   "cell_type": "code",
   "execution_count": null,
   "id": "18772e8b-f2b6-43fb-bbd4-b0a83d52ba2f",
   "metadata": {},
   "outputs": [],
   "source": []
  }
 ],
 "metadata": {
  "kernelspec": {
   "display_name": "Python 3",
   "language": "python",
   "name": "python3"
  },
  "language_info": {
   "codemirror_mode": {
    "name": "ipython",
    "version": 3
   },
   "file_extension": ".py",
   "mimetype": "text/x-python",
   "name": "python",
   "nbconvert_exporter": "python",
   "pygments_lexer": "ipython3",
   "version": "3.8.8"
  }
 },
 "nbformat": 4,
 "nbformat_minor": 5
}
