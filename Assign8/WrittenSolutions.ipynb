{
 "cells": [
  {
   "cell_type": "markdown",
   "id": "5f2b8807-31ba-49d2-a7b6-5fe9975048c8",
   "metadata": {},
   "source": [
    "<h1>Problem 1</h1>"
   ]
  },
  {
   "cell_type": "markdown",
   "id": "e7f26b99-b26f-4042-8698-40c5cadbf871",
   "metadata": {},
   "source": [
    "Define the following constants and variables\n",
    "\n",
    "$U(x)$ -> Some utility function that is defined and constant throughout\n",
    "\n",
    "R -> Daily interest rate on borrowed amounts, constant<br>\n",
    "K -> Defined constant<br>\n",
    "C -> Amount if current cash falls below to require a payoff\n",
    "\n",
    "V -> Daily return rate for risky asset, variable and random everyday ~ $N(\\mu, \\sigma)$ with $\\mu$ and $\\sigma$ as constants<br>\n",
    "W -> Amount withdrawn, variable and random everyday<br>\n",
    "D -> Amount deposited, variable and random everyday<br>\n",
    "\n",
    "$c$ -> Current amount of bank's cash\n",
    "$L$ -> Current amount of borrowed cash\n",
    "$I$ -> Current amount invested into risky asset\n",
    "\n",
    "$y$ -> Amount borrowed, choice/action option at the end of each day<br>\n",
    "$r$ -> Amount invested into risky asset, choice/action option at the end of each day\n",
    "\n",
    "Note that $t$ denotes performance throughout day $t$. So action $t$ is taken at the end of day $t-1$ and Reward $t$ comes from the result throughout day $t$ and immediately before the close of day $t$ this Reward is realized.\n",
    "\n",
    "States:\n",
    "\n",
    "$S_t$ = $(c_t, L_t, I_t)$ for $0 \\leq t \\leq T$\n",
    "\n",
    "Actions:\n",
    "\n",
    "$A_t$ = $(y,r)$ such that $0 \\leq r,y$ and $c_t + y - r \\geq K \\cdot cot(\\frac{\\pi \\cdot c}{2C})$ and $c_t + y - r > 0$\n",
    "\n",
    "Rewards:\n",
    "\n",
    "$R_t = U(c_{t = T} + I_{t = T} - L_{t = T})$<br>\n",
    "\n",
    "Transition:\n",
    "$S_t = (c_t, L_t, I_t)$ transitions to $S_{t+1} = (c_{t+1} = c_t - r + y - W_t + D_t - L_t \\cdot (1 + R) + (I_t + r_t) \\cdot (1 + R), I_{t+1} = (I_t + r_t) \\cdot (1 + V_{t+1}), L_{t+1} = y_t)$\n",
    "\n",
    "We would choose to use ADP in this case because, primarily, our state space alone is infinite. This alone makes it difficult to actually model this as an MDP and to define all the possible states and transitions, making it much more effective to utilize ADP and use sampling methods instead.\n",
    "\n"
   ]
  },
  {
   "cell_type": "markdown",
   "id": "7d2af60a-48f1-4cce-88a4-c4f2ec40dbb3",
   "metadata": {},
   "source": [
    "<h1>Problem 3</h1>"
   ]
  },
  {
   "cell_type": "code",
   "execution_count": null,
   "id": "0227de78-edf6-4b8a-acf6-2f3a7fa20091",
   "metadata": {},
   "outputs": [],
   "source": []
  },
  {
   "cell_type": "markdown",
   "id": "cc8918d8-88f3-4dc5-9683-3ae3d563616c",
   "metadata": {},
   "source": [
    "We are trying to minimize $g(s)$ given that: $g(S) = p \\cdot g_1(S) + h \\cdot g_2(S)$. Further,\n",
    "\n",
    "$g_1(S) = \\int_{S}^{\\infty} (x-S) \\cdot f(x) \\,dx = \\int_{S}^{\\infty} x \\cdot f(x) \\,dx - \\int_{S}^{\\infty} S \\cdot f(x) \\,dx$\n",
    "\n",
    "$g_2(S) = \\int_{-\\infty}^{S} (S-x) \\cdot f(x) \\,dx = \\int_{-\\infty}^{S} S \\cdot f(x) \\,dx - \\int_{-\\infty}^{S} x \\cdot f(x) \\,dx$\n",
    "\n",
    "Taking the derivative with respect to S gives:\n",
    "\n",
    "$ - p \\cdot \\int_{S}^{\\infty} f(x) \\,dx + h \\cdot \\int_{-\\infty}^{S} f(x) \\,dx = 0$ and\n",
    "\n",
    "$- p \\cdot (1 - P(X \\leq S)) + h \\cdot P(X \\leq S) = 0$\n",
    "\n",
    "$-p + (p + h) \\cdot P(X \\leq S) = 0 \\rightarrow \\frac{p}{(p+h)} = P(X \\leq S) \\rightarrow F_X(S) =  \\frac{p}{(p+h)} \\rightarrow S = F_X^{-1}(\\frac{p}{(p+h)})$\n",
    "\n",
    "Call Option (Lock) at (S) with slope p. In this case, the slope of p would be represented by the number of people (p) who are purchasing such a call option from you (the seller) in this scenario, where you are trying to minimize loss.<br>\n",
    "Put Option (Lock) at (S) with slope h. In this case, the sloep of h would be respresented by the number of people (h) who are purchasing such a put option from you (the seller) in this scenario, where you are trying to minimize loss.<br>"
   ]
  },
  {
   "cell_type": "code",
   "execution_count": null,
   "id": "24e70e92-1cbb-4d21-86fc-00bc3ab2f338",
   "metadata": {},
   "outputs": [],
   "source": []
  },
  {
   "cell_type": "code",
   "execution_count": null,
   "id": "8127058b-269e-46cf-a340-d33d43b8b4d7",
   "metadata": {},
   "outputs": [],
   "source": []
  }
 ],
 "metadata": {
  "kernelspec": {
   "display_name": "Python 3",
   "language": "python",
   "name": "python3"
  },
  "language_info": {
   "codemirror_mode": {
    "name": "ipython",
    "version": 3
   },
   "file_extension": ".py",
   "mimetype": "text/x-python",
   "name": "python",
   "nbconvert_exporter": "python",
   "pygments_lexer": "ipython3",
   "version": "3.8.8"
  }
 },
 "nbformat": 4,
 "nbformat_minor": 5
}
