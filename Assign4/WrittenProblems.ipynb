{
 "cells": [
  {
   "cell_type": "markdown",
   "id": "86f7fb33-5639-4398-974c-092850869ac0",
   "metadata": {},
   "source": [
    "<h1>Problem 1</h1>"
   ]
  },
  {
   "cell_type": "markdown",
   "id": "49f94880-98be-40ed-829d-d0e712b4f933",
   "metadata": {},
   "source": [
    "In order to calculate each $Q_{k}(s_{i}, a_{i})$ we utilize our Actional Policy Function formula:\n",
    "\n",
    "$Q_{k}(s_{i}, a_{i}) = (\\sum_{s' \\in S}^{} R(s_{i}, a_{i},s_{i}')) + \\gamma \\cdot (\\sum_{s' \\in S}^{} P(s_{i}, a_{i},s_{i}') \\cdot V_{k-1}(s_{i}'))$\n",
    "\n",
    "Using this, we can get:\n",
    "\n",
    "$Q_{1}(s_{1}, a_{1}) = R(s_{1}, a_{1}) + (P(s_{1}, a_{1},s_{1}) \\cdot V_{0}(s_{1})) + (P(s_{1}, a_{1},s_{2}) \\cdot V_{0}(s_{2})) = 8 + 0.2 \\cdot 10 + 0.6 \\cdot 1 = 10.6$\n",
    "\n",
    "$Q_{1}(s_{1}, a_{2}) = R(s_{1}, a_{2}) + (P(s_{1}, a_{2},s_{1}) \\cdot V_{0}(s_{1})) + (P(s_{1}, a_{2},s_{2}) \\cdot V_{0}(s_{2})) = 10 + 0.1 \\cdot 10 + 0.2 \\cdot 1 = 11.2$\n",
    "\n",
    "$Q_{1}(s_{2}, a_{1}) = R(s_{2}, a_{1}) + (P(s_{2}, a_{1},s_{1}) \\cdot V_{0}(s_{1})) + (P(s_{2}, a_{1},s_{2}) \\cdot V_{0}(s_{2})) = 1 + 0.3 \\cdot 10 + 0.3 \\cdot 1 = 4.3$\n",
    "\n",
    "$Q_{1}(s_{2}, a_{2}) = R(s_{2}, a_{2}) + (P(s_{2}, a_{2},s_{1}) \\cdot V_{0}(s_{1})) + (P(s_{2}, a_{2},s_{2}) \\cdot V_{0}(s_{2})) = -1 + 0.5 \\cdot 10 + 0.3 \\cdot 1 = 4.3$\n",
    "\n",
    "Thus, since $Q_{1}(s_{1}, a_{1}) < Q_{1}(s_{1}, a_{2})$, we have that $\\pi_{1}(s_1) = a_{2}$. Thus, $V_1(s_1) = Q_{1}(s_{1}, a_{1}) = 11.2$  Further, since $Q_{1}(s_{2}, a_{1}) = Q_{1}(s_{2}, a_{2})$, our action at $s_2$ technically does not matter as both actions result in the same value. Since we are going to iterate our value function again, we care only about using $4.3$ as the value for $V_1(s_2)$ and since our action doesn't matter between $a_1$ and $a_2$, we can just set $\\pi_{1}(s_2) = a_2$\n",
    "\n",
    "Thus, we can use $V_1(s_1) = 11.2$ and $V_1(s_2) = 4.3$ to get $Q_2(s,a)$ values as follows:\n",
    "\n",
    "$Q_{2}(s_{1}, a_{1}) = R(s_{1}, a_{1}) + (P(s_{1}, a_{1},s_{1}) \\cdot V_{1}(s_{1})) + (P(s_{1}, a_{1},s_{2}) \\cdot V_{1}(s_{2})) = 8 + 0.2 \\cdot 11.2 + 0.6 \\cdot 4.3 = 12.82$\n",
    "\n",
    "$Q_{2}(s_{1}, a_{2}) = R(s_{1}, a_{2}) + (P(s_{1}, a_{2},s_{1}) \\cdot V_{1}(s_{1})) + (P(s_{1}, a_{2},s_{2}) \\cdot V_{1}(s_{2})) = 10 + 0.1 \\cdot 11.2 + 0.2 \\cdot 4.3 = 11.98$\n",
    "\n",
    "$Q_{2}(s_{2}, a_{1}) = R(s_{2}, a_{1}) + (P(s_{2}, a_{1},s_{1}) \\cdot V_{1}(s_{1})) + (P(s_{2}, a_{1},s_{2}) \\cdot V_{1}(s_{2})) = 1 + 0.3 \\cdot 11.2 + 0.3 \\cdot 4.3 = 5.62$\n",
    "\n",
    "$Q_{2}(s_{2}, a_{2}) = R(s_{2}, a_{2}) + (P(s_{2}, a_{2},s_{1}) \\cdot V_{1}(s_{1})) + (P(s_{2}, a_{2},s_{2}) \\cdot V_{1}(s_{2})) = -1 + 0.5 \\cdot 11.2 + 0.3 \\cdot 4.3 = 5.89$\n",
    "\n",
    "Thus, since $Q_{2}(s_{1}, a_{1}) > Q_{2}(s_{1}, a_{2})$, we have that $\\pi_{2}(s_1) = a_{1}$. Thus, $V_2(s_1) = Q_{1}(s_{1}, a_{2}) = 12.82$. Further, since $Q_{2}(s_{2}, a_{1}) < Q_{2}(s_{2}, a_{2})$, we have that $\\pi_{2}(s_2) = a_{2}$, Thus, $V_2(s_2) = Q_{2}(s_{2}, a_{2}) = 5.89$. This gives us the overall results of:\n",
    "\n",
    "$V_2(s_1) = 12.82$\n",
    "$V_2(s_2) = 5.89$\n",
    "$\\pi_2(s_1) = a_1$\n",
    "$\\pi_2(s_2) = a_2$\n",
    "\n",
    "PART B.\n",
    "\n",
    "Notice that $Q_{k}(s_1, a_1) - Q_{k}(s_1,a_2)$ and $Q_{k}(s_2, a_2) - Q_{k}(s_2,a_1)$ can be expressed as:\n",
    "\n",
    "$Q_{k}(s_1, a_1) - Q_{k}(s_1,a_2) = -2 + 0.1  \\cdot V_{k-1}(s_1) + 0.4 \\cdot V_{k-1}(s_2)$\n",
    "\n",
    "$Q_{k}(s_2, a_2) - Q_{k}(s_2,a_1) = -2 + 0.2 \\cdot V_{k-1}(s_1)$\n",
    "\n",
    "Thus, the second equation here displays that from state $s_2$, action $a_2$ is favorable as long as $V_{k-1}(s_1) > 10$. After the first iteration, we got that $V_{1}(s_1) = 11.2 > 10$. Thus, the second iteration will give us that $\\pi_{2}(s_2) = a_2$. Further, since $V_{k-1}(s_1) > 10$ will hold true for all future $k$, we don't need to iterate any further as just the second iteration has given us $\\pi_{2}(s_2) = a_2$, which stay true as long as $V_{k-1}(s_1) > 10$. Thus, $\\pi_{2}(s_2) = a_2$ only needs 2 iterations to be determined and stay constant.\n",
    "\n",
    "On the other side, the first equation shows that if $0.1  \\cdot V_{k-1}(s_1) + 0.4 \\cdot V_{k-1}(s_2) > 2$, then $\\pi_{k}(s_1) = a_1$. Notice that after the first iteration, $V_{1}(s_1) = 11.2, V_{1}(s_2) = 4.3$. Thus, these numbers for $V$ give us that $\\pi_{2}(s_1) = a_1$. Notice, once again, that because $V$ is an underestimate and grows larger at the end of iteration 2, (i.e., $V_2 > V_1$), we know that $0.1  \\cdot V_{k-1}(s_1) + 0.4 \\cdot V_{k-1}(s_2) > 2$ holds true for the rest of the iterations beyond just 2, meaning that $\\pi_{k}(s_1) = a_1$ for all iterations past 2, and we can arrive at this solution after just 2 iterations, so we don't need to iterate any further."
   ]
  },
  {
   "cell_type": "code",
   "execution_count": null,
   "id": "91e45cca-ed1f-457f-9f75-76916b37e5d1",
   "metadata": {},
   "outputs": [],
   "source": []
  }
 ],
 "metadata": {
  "kernelspec": {
   "display_name": "Python 3",
   "language": "python",
   "name": "python3"
  },
  "language_info": {
   "codemirror_mode": {
    "name": "ipython",
    "version": 3
   },
   "file_extension": ".py",
   "mimetype": "text/x-python",
   "name": "python",
   "nbconvert_exporter": "python",
   "pygments_lexer": "ipython3",
   "version": "3.8.8"
  }
 },
 "nbformat": 4,
 "nbformat_minor": 5
}
